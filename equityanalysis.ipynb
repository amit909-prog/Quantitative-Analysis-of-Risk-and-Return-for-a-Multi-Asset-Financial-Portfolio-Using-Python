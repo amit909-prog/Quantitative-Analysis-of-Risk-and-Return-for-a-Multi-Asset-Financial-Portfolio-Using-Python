{
 "cells": [
  {
   "cell_type": "code",
   "execution_count": 1,
   "id": "145b446c",
   "metadata": {},
   "outputs": [],
   "source": [
    "import matplotlib.pyplot as plt\n",
    "import plotly.express as px\n",
    "import yfinance as yf\n",
    "import numpy as np\n",
    "import pandas as pd\n"
   ]
  },
  {
   "cell_type": "code",
   "execution_count": 27,
   "id": "34ebbac4",
   "metadata": {},
   "outputs": [
    {
     "name": "stderr",
     "output_type": "stream",
     "text": [
      "C:\\Users\\DELL\\AppData\\Local\\Temp\\ipykernel_11876\\113734814.py:6: FutureWarning:\n",
      "\n",
      "YF.download() has changed argument auto_adjust default to True\n",
      "\n",
      "[*********************100%***********************]  1 of 1 completed\n",
      "C:\\Users\\DELL\\AppData\\Local\\Temp\\ipykernel_11876\\113734814.py:9: FutureWarning:\n",
      "\n",
      "YF.download() has changed argument auto_adjust default to True\n",
      "\n",
      "[*********************100%***********************]  3 of 3 completed\n"
     ]
    },
    {
     "data": {
      "text/html": [
       "<div>\n",
       "<style scoped>\n",
       "    .dataframe tbody tr th:only-of-type {\n",
       "        vertical-align: middle;\n",
       "    }\n",
       "\n",
       "    .dataframe tbody tr th {\n",
       "        vertical-align: top;\n",
       "    }\n",
       "\n",
       "    .dataframe thead th {\n",
       "        text-align: right;\n",
       "    }\n",
       "</style>\n",
       "<table border=\"1\" class=\"dataframe\">\n",
       "  <thead>\n",
       "    <tr style=\"text-align: right;\">\n",
       "      <th>Ticker</th>\n",
       "      <th>BAC</th>\n",
       "      <th>JPM</th>\n",
       "      <th>MS</th>\n",
       "    </tr>\n",
       "    <tr>\n",
       "      <th>Date</th>\n",
       "      <th></th>\n",
       "      <th></th>\n",
       "      <th></th>\n",
       "    </tr>\n",
       "  </thead>\n",
       "  <tbody>\n",
       "    <tr>\n",
       "      <th>2024-01-02</th>\n",
       "      <td>32.658970</td>\n",
       "      <td>166.179550</td>\n",
       "      <td>89.284668</td>\n",
       "    </tr>\n",
       "    <tr>\n",
       "      <th>2024-01-03</th>\n",
       "      <td>32.302513</td>\n",
       "      <td>165.455261</td>\n",
       "      <td>87.392487</td>\n",
       "    </tr>\n",
       "    <tr>\n",
       "      <th>2024-01-04</th>\n",
       "      <td>32.562626</td>\n",
       "      <td>166.553253</td>\n",
       "      <td>87.620689</td>\n",
       "    </tr>\n",
       "    <tr>\n",
       "      <th>2024-01-05</th>\n",
       "      <td>33.169563</td>\n",
       "      <td>167.388885</td>\n",
       "      <td>88.657112</td>\n",
       "    </tr>\n",
       "    <tr>\n",
       "      <th>2024-01-08</th>\n",
       "      <td>32.909451</td>\n",
       "      <td>167.145966</td>\n",
       "      <td>88.913841</td>\n",
       "    </tr>\n",
       "    <tr>\n",
       "      <th>...</th>\n",
       "      <td>...</td>\n",
       "      <td>...</td>\n",
       "      <td>...</td>\n",
       "    </tr>\n",
       "    <tr>\n",
       "      <th>2025-02-24</th>\n",
       "      <td>43.922352</td>\n",
       "      <td>259.740112</td>\n",
       "      <td>128.935471</td>\n",
       "    </tr>\n",
       "    <tr>\n",
       "      <th>2025-02-25</th>\n",
       "      <td>43.408638</td>\n",
       "      <td>255.824234</td>\n",
       "      <td>128.568420</td>\n",
       "    </tr>\n",
       "    <tr>\n",
       "      <th>2025-02-26</th>\n",
       "      <td>43.408638</td>\n",
       "      <td>257.205750</td>\n",
       "      <td>130.006882</td>\n",
       "    </tr>\n",
       "    <tr>\n",
       "      <th>2025-02-27</th>\n",
       "      <td>43.586460</td>\n",
       "      <td>257.464142</td>\n",
       "      <td>128.211288</td>\n",
       "    </tr>\n",
       "    <tr>\n",
       "      <th>2025-02-28</th>\n",
       "      <td>45.542515</td>\n",
       "      <td>263.029846</td>\n",
       "      <td>132.050476</td>\n",
       "    </tr>\n",
       "  </tbody>\n",
       "</table>\n",
       "<p>291 rows × 3 columns</p>\n",
       "</div>"
      ],
      "text/plain": [
       "Ticker            BAC         JPM          MS\n",
       "Date                                         \n",
       "2024-01-02  32.658970  166.179550   89.284668\n",
       "2024-01-03  32.302513  165.455261   87.392487\n",
       "2024-01-04  32.562626  166.553253   87.620689\n",
       "2024-01-05  33.169563  167.388885   88.657112\n",
       "2024-01-08  32.909451  167.145966   88.913841\n",
       "...               ...         ...         ...\n",
       "2025-02-24  43.922352  259.740112  128.935471\n",
       "2025-02-25  43.408638  255.824234  128.568420\n",
       "2025-02-26  43.408638  257.205750  130.006882\n",
       "2025-02-27  43.586460  257.464142  128.211288\n",
       "2025-02-28  45.542515  263.029846  132.050476\n",
       "\n",
       "[291 rows x 3 columns]"
      ]
     },
     "execution_count": 27,
     "metadata": {},
     "output_type": "execute_result"
    }
   ],
   "source": [
    "# getting data \n",
    "\n",
    "tickers = ['JPM', 'MS', 'BAC']\n",
    "start_date = '2024-01-01'\n",
    "end_date = '2025-03-01'\n",
    "benchmark = yf.download('^GSPC', start = start_date, end = end_date)['Close']\n",
    "benchmark = benchmark.pct_change() # Simple Returns for my S&P 500\n",
    "benchmark = benchmark.dropna()\n",
    "data = yf.download(tickers, start = start_date, end = end_date)['Close']\n",
    "data"
   ]
  },
  {
   "cell_type": "code",
   "execution_count": 43,
   "id": "c56e2169",
   "metadata": {},
   "outputs": [
    {
     "data": {
      "text/plain": [
       "<Axes: title={'center': 'Closing Price of '}, xlabel='Date'>"
      ]
     },
     "execution_count": 43,
     "metadata": {},
     "output_type": "execute_result"
    },
    {
     "data": {
      "image/png": "[encoded data removed]",
      "text/plain": [
       "<Figure size 640x480 with 1 Axes>"
      ]
     },
     "metadata": {},
     "output_type": "display_data"
    }
   ],
   "source": [
    "data.plot( title = 'Closing Price of ')\n"
   ]
  },
  {
   "cell_type": "code",
   "execution_count": 44,
   "id": "b6363cce",
   "metadata": {},
   "outputs": [
    {
     "data": {
      "text/html": [
       "<div>\n",
       "<style scoped>\n",
       "    .dataframe tbody tr th:only-of-type {\n",
       "        vertical-align: middle;\n",
       "    }\n",
       "\n",
       "    .dataframe tbody tr th {\n",
       "        vertical-align: top;\n",
       "    }\n",
       "\n",
       "    .dataframe thead th {\n",
       "        text-align: right;\n",
       "    }\n",
       "</style>\n",
       "<table border=\"1\" class=\"dataframe\">\n",
       "  <thead>\n",
       "    <tr style=\"text-align: right;\">\n",
       "      <th>Ticker</th>\n",
       "      <th>BAC</th>\n",
       "      <th>JPM</th>\n",
       "      <th>MS</th>\n",
       "    </tr>\n",
       "    <tr>\n",
       "      <th>Date</th>\n",
       "      <th></th>\n",
       "      <th></th>\n",
       "      <th></th>\n",
       "    </tr>\n",
       "  </thead>\n",
       "  <tbody>\n",
       "    <tr>\n",
       "      <th>2024-01-03</th>\n",
       "      <td>-0.010915</td>\n",
       "      <td>-0.004358</td>\n",
       "      <td>-0.021193</td>\n",
       "    </tr>\n",
       "    <tr>\n",
       "      <th>2024-01-04</th>\n",
       "      <td>0.008052</td>\n",
       "      <td>0.006636</td>\n",
       "      <td>0.002611</td>\n",
       "    </tr>\n",
       "    <tr>\n",
       "      <th>2024-01-05</th>\n",
       "      <td>0.018639</td>\n",
       "      <td>0.005017</td>\n",
       "      <td>0.011829</td>\n",
       "    </tr>\n",
       "    <tr>\n",
       "      <th>2024-01-08</th>\n",
       "      <td>-0.007842</td>\n",
       "      <td>-0.001451</td>\n",
       "      <td>0.002896</td>\n",
       "    </tr>\n",
       "    <tr>\n",
       "      <th>2024-01-09</th>\n",
       "      <td>-0.015515</td>\n",
       "      <td>-0.007906</td>\n",
       "      <td>-0.015506</td>\n",
       "    </tr>\n",
       "    <tr>\n",
       "      <th>...</th>\n",
       "      <td>...</td>\n",
       "      <td>...</td>\n",
       "      <td>...</td>\n",
       "    </tr>\n",
       "    <tr>\n",
       "      <th>2025-02-24</th>\n",
       "      <td>-0.007811</td>\n",
       "      <td>-0.010975</td>\n",
       "      <td>-0.013061</td>\n",
       "    </tr>\n",
       "    <tr>\n",
       "      <th>2025-02-25</th>\n",
       "      <td>-0.011696</td>\n",
       "      <td>-0.015076</td>\n",
       "      <td>-0.002847</td>\n",
       "    </tr>\n",
       "    <tr>\n",
       "      <th>2025-02-26</th>\n",
       "      <td>0.000000</td>\n",
       "      <td>0.005400</td>\n",
       "      <td>0.011188</td>\n",
       "    </tr>\n",
       "    <tr>\n",
       "      <th>2025-02-27</th>\n",
       "      <td>0.004096</td>\n",
       "      <td>0.001005</td>\n",
       "      <td>-0.013812</td>\n",
       "    </tr>\n",
       "    <tr>\n",
       "      <th>2025-02-28</th>\n",
       "      <td>0.044878</td>\n",
       "      <td>0.021617</td>\n",
       "      <td>0.029944</td>\n",
       "    </tr>\n",
       "  </tbody>\n",
       "</table>\n",
       "<p>290 rows × 3 columns</p>\n",
       "</div>"
      ],
      "text/plain": [
       "Ticker           BAC       JPM        MS\n",
       "Date                                    \n",
       "2024-01-03 -0.010915 -0.004358 -0.021193\n",
       "2024-01-04  0.008052  0.006636  0.002611\n",
       "2024-01-05  0.018639  0.005017  0.011829\n",
       "2024-01-08 -0.007842 -0.001451  0.002896\n",
       "2024-01-09 -0.015515 -0.007906 -0.015506\n",
       "...              ...       ...       ...\n",
       "2025-02-24 -0.007811 -0.010975 -0.013061\n",
       "2025-02-25 -0.011696 -0.015076 -0.002847\n",
       "2025-02-26  0.000000  0.005400  0.011188\n",
       "2025-02-27  0.004096  0.001005 -0.013812\n",
       "2025-02-28  0.044878  0.021617  0.029944\n",
       "\n",
       "[290 rows x 3 columns]"
      ]
     },
     "execution_count": 44,
     "metadata": {},
     "output_type": "execute_result"
    }
   ],
   "source": [
    "# Calculate Simple Return \n",
    "\n",
    "simple_returns = data.pct_change()\n",
    "simple_returns = simple_returns.dropna() \n",
    "simple_returns"
   ]
  },
  {
   "cell_type": "code",
   "execution_count": 45,
   "id": "47bc2b72",
   "metadata": {},
   "outputs": [
    {
     "data": {
      "text/html": [
       "<div>\n",
       "<style scoped>\n",
       "    .dataframe tbody tr th:only-of-type {\n",
       "        vertical-align: middle;\n",
       "    }\n",
       "\n",
       "    .dataframe tbody tr th {\n",
       "        vertical-align: top;\n",
       "    }\n",
       "\n",
       "    .dataframe thead th {\n",
       "        text-align: right;\n",
       "    }\n",
       "</style>\n",
       "<table border=\"1\" class=\"dataframe\">\n",
       "  <thead>\n",
       "    <tr style=\"text-align: right;\">\n",
       "      <th>Ticker</th>\n",
       "      <th>BAC</th>\n",
       "      <th>JPM</th>\n",
       "      <th>MS</th>\n",
       "    </tr>\n",
       "    <tr>\n",
       "      <th>Date</th>\n",
       "      <th></th>\n",
       "      <th></th>\n",
       "      <th></th>\n",
       "    </tr>\n",
       "  </thead>\n",
       "  <tbody>\n",
       "    <tr>\n",
       "      <th>2024-01-03</th>\n",
       "      <td>-0.010975</td>\n",
       "      <td>-0.004368</td>\n",
       "      <td>-0.021420</td>\n",
       "    </tr>\n",
       "    <tr>\n",
       "      <th>2024-01-04</th>\n",
       "      <td>0.008020</td>\n",
       "      <td>0.006614</td>\n",
       "      <td>0.002608</td>\n",
       "    </tr>\n",
       "    <tr>\n",
       "      <th>2024-01-05</th>\n",
       "      <td>0.018468</td>\n",
       "      <td>0.005005</td>\n",
       "      <td>0.011759</td>\n",
       "    </tr>\n",
       "    <tr>\n",
       "      <th>2024-01-08</th>\n",
       "      <td>-0.007873</td>\n",
       "      <td>-0.001452</td>\n",
       "      <td>0.002892</td>\n",
       "    </tr>\n",
       "    <tr>\n",
       "      <th>2024-01-09</th>\n",
       "      <td>-0.015637</td>\n",
       "      <td>-0.007938</td>\n",
       "      <td>-0.015628</td>\n",
       "    </tr>\n",
       "    <tr>\n",
       "      <th>...</th>\n",
       "      <td>...</td>\n",
       "      <td>...</td>\n",
       "      <td>...</td>\n",
       "    </tr>\n",
       "    <tr>\n",
       "      <th>2025-02-24</th>\n",
       "      <td>-0.007841</td>\n",
       "      <td>-0.011036</td>\n",
       "      <td>-0.013147</td>\n",
       "    </tr>\n",
       "    <tr>\n",
       "      <th>2025-02-25</th>\n",
       "      <td>-0.011765</td>\n",
       "      <td>-0.015191</td>\n",
       "      <td>-0.002851</td>\n",
       "    </tr>\n",
       "    <tr>\n",
       "      <th>2025-02-26</th>\n",
       "      <td>0.000000</td>\n",
       "      <td>0.005386</td>\n",
       "      <td>0.011126</td>\n",
       "    </tr>\n",
       "    <tr>\n",
       "      <th>2025-02-27</th>\n",
       "      <td>0.004088</td>\n",
       "      <td>0.001004</td>\n",
       "      <td>-0.013908</td>\n",
       "    </tr>\n",
       "    <tr>\n",
       "      <th>2025-02-28</th>\n",
       "      <td>0.043900</td>\n",
       "      <td>0.021387</td>\n",
       "      <td>0.029505</td>\n",
       "    </tr>\n",
       "  </tbody>\n",
       "</table>\n",
       "<p>290 rows × 3 columns</p>\n",
       "</div>"
      ],
      "text/plain": [
       "Ticker           BAC       JPM        MS\n",
       "Date                                    \n",
       "2024-01-03 -0.010975 -0.004368 -0.021420\n",
       "2024-01-04  0.008020  0.006614  0.002608\n",
       "2024-01-05  0.018468  0.005005  0.011759\n",
       "2024-01-08 -0.007873 -0.001452  0.002892\n",
       "2024-01-09 -0.015637 -0.007938 -0.015628\n",
       "...              ...       ...       ...\n",
       "2025-02-24 -0.007841 -0.011036 -0.013147\n",
       "2025-02-25 -0.011765 -0.015191 -0.002851\n",
       "2025-02-26  0.000000  0.005386  0.011126\n",
       "2025-02-27  0.004088  0.001004 -0.013908\n",
       "2025-02-28  0.043900  0.021387  0.029505\n",
       "\n",
       "[290 rows x 3 columns]"
      ]
     },
     "execution_count": 45,
     "metadata": {},
     "output_type": "execute_result"
    }
   ],
   "source": [
    "# Calculate Log Return \n",
    "\n",
    "log_returns = np.log(data/data.shift(1))\n",
    "log_returns = log_returns.dropna() \n",
    "log_returns"
   ]
  },
  {
   "cell_type": "code",
   "execution_count": 46,
   "id": "e935ca7f",
   "metadata": {},
   "outputs": [
    {
     "data": {
      "text/plain": [
       "Date\n",
       "2024-01-03   -0.012155\n",
       "2024-01-04    0.005767\n",
       "2024-01-05    0.011828\n",
       "2024-01-08   -0.002132\n",
       "2024-01-09   -0.012976\n",
       "                ...   \n",
       "2025-02-24   -0.010616\n",
       "2025-02-25   -0.009873\n",
       "2025-02-26    0.005530\n",
       "2025-02-27   -0.002903\n",
       "2025-02-28    0.032146\n",
       "Length: 290, dtype: float64"
      ]
     },
     "execution_count": 46,
     "metadata": {},
     "output_type": "execute_result"
    }
   ],
   "source": [
    "# Portfolio Simple Returns \n",
    "\n",
    "weights = np.array([1/3, 1/3, 1/3])\n",
    "portfolio_simple_returns = simple_returns.dot(weights)\n",
    "portfolio_simple_returns"
   ]
  },
  {
   "cell_type": "code",
   "execution_count": 47,
   "id": "9b172673",
   "metadata": {},
   "outputs": [
    {
     "data": {
      "text/plain": [
       "Date\n",
       "2024-01-03   -0.012254\n",
       "2024-01-04    0.005747\n",
       "2024-01-05    0.011744\n",
       "2024-01-08   -0.002145\n",
       "2024-01-09   -0.013067\n",
       "                ...   \n",
       "2025-02-24   -0.010675\n",
       "2025-02-25   -0.009936\n",
       "2025-02-26    0.005504\n",
       "2025-02-27   -0.002939\n",
       "2025-02-28    0.031597\n",
       "Length: 290, dtype: float64"
      ]
     },
     "execution_count": 47,
     "metadata": {},
     "output_type": "execute_result"
    }
   ],
   "source": [
    "# Portfolio Log Returns \n",
    "\n",
    "weights = np.array([1/3, 1/3, 1/3])\n",
    "portfolio_log_returns = log_returns.dot(weights)\n",
    "portfolio_log_returns"
   ]
  },
  {
   "cell_type": "code",
   "execution_count": 60,
   "id": "93de4d00",
   "metadata": {},
   "outputs": [
    {
     "name": "stdout",
     "output_type": "stream",
     "text": [
      "annual simple return is 0.4496157658755664\n"
     ]
    }
   ],
   "source": [
    "# Annualize Simple Return of our Portfolio \n",
    "\n",
    "annualized_simple_return = ((1 + portfolio_simple_returns.mean()) ** 252) - 1\n",
    "print(\"annual simple return is\",annualized_simple_return,)"
   ]
  },
  {
   "cell_type": "code",
   "execution_count": 61,
   "id": "88ccaf06",
   "metadata": {},
   "outputs": [
    {
     "name": "stdout",
     "output_type": "stream",
     "text": [
      "annual log return is  0.34268520510106787\n"
     ]
    }
   ],
   "source": [
    "# Annualize Log Return of our Portfolio \n",
    "\n",
    "annualized_log_return = portfolio_log_returns.mean() * 252\n",
    "print(\"annual log return is \",annualized_log_return)"
   ]
  },
  {
   "cell_type": "code",
   "execution_count": 62,
   "id": "094a4b77",
   "metadata": {},
   "outputs": [
    {
     "name": "stdout",
     "output_type": "stream",
     "text": [
      "annual volatility of the portfolio is  0.2131225189398619\n"
     ]
    }
   ],
   "source": [
    "# Volatility\n",
    "\n",
    "\n",
    "daily_volatility = np.std(portfolio_simple_returns)\n",
    "annual_volatility = daily_volatility * np.sqrt(252)\n",
    "print(\"annual volatility of the portfolio is \",annual_volatility)"
   ]
  },
  {
   "cell_type": "code",
   "execution_count": 63,
   "id": "f29d132e",
   "metadata": {},
   "outputs": [
    {
     "data": {
      "text/plain": [
       "np.float64(0.8962049661265206)"
      ]
     },
     "execution_count": 63,
     "metadata": {},
     "output_type": "execute_result"
    }
   ],
   "source": [
    "# Calculate Beta\n",
    "# Beta = Covariance(Rp, Rm)/Var(Rm) \n",
    "\n",
    "portfolio_returns = portfolio_simple_returns.to_numpy().flatten()\n",
    "benchmark_return = benchmark.to_numpy().flatten()\n",
    "\n",
    "cov_matrix = np.cov(portfolio_returns, benchmark_return)\n",
    "beta = cov_matrix[0,1]/cov_matrix[1,1]\n",
    "beta\n"
   ]
  },
  {
   "cell_type": "code",
   "execution_count": 64,
   "id": "704f5f1f",
   "metadata": {},
   "outputs": [
    {
     "data": {
      "text/plain": [
       "np.float64(0.17976681866537764)"
      ]
     },
     "execution_count": 64,
     "metadata": {},
     "output_type": "execute_result"
    }
   ],
   "source": [
    "# Calculate Alpha => CAPM Formula to calculate Alpha\n",
    "\n",
    "risk_free_rate = 0.07\n",
    "alpha = (np.mean(portfolio_simple_returns) - risk_free_rate/252) - beta * (np.mean(benchmark) - risk_free_rate/252)\n",
    "alpha = alpha * 252\n",
    "alpha"
   ]
  },
  {
   "cell_type": "code",
   "execution_count": 65,
   "id": "9ea5d3a8",
   "metadata": {},
   "outputs": [
    {
     "data": {
      "text/plain": [
       "np.float64(1.7812090799409372)"
      ]
     },
     "execution_count": 65,
     "metadata": {},
     "output_type": "execute_result"
    }
   ],
   "source": [
    "# Sharpe Ratio = (Rp - Rf)/sigma => Total Volatility\n",
    "\n",
    "\n",
    "sharpe_ratio = (annualized_simple_return - risk_free_rate)/annual_volatility\n",
    "sharpe_ratio"
   ]
  },
  {
   "cell_type": "code",
   "execution_count": 67,
   "id": "c5fe9760",
   "metadata": {},
   "outputs": [
    {
     "data": {
      "text/plain": [
       "np.float64(2.7641634443725973)"
      ]
     },
     "execution_count": 67,
     "metadata": {},
     "output_type": "execute_result"
    }
   ],
   "source": [
    "# Sortino Ratio\n",
    "\n",
    "\n",
    "negative_returns = portfolio_simple_returns[portfolio_simple_returns < 0]\n",
    "downside_deviation = np.std(negative_returns)                                      # Daily Downside Std Dev\n",
    "downside_deviation = downside_deviation * np.sqrt(252)                             # Annualized Downside Std Dev\n",
    "downside_deviation\n",
    "\n",
    "# Sortino Ratio = (Rp - Rf)/sigma(d) => Downside Volatility\n",
    "\n",
    "sortino_ratio = (annualized_simple_return - risk_free_rate)/downside_deviation\n",
    "sortino_ratio"
   ]
  },
  {
   "cell_type": "code",
   "execution_count": 68,
   "id": "01e9ee2d",
   "metadata": {},
   "outputs": [
    {
     "data": {
      "text/plain": [
       "np.float64(3.3746190705878503)"
      ]
     },
     "execution_count": 68,
     "metadata": {},
     "output_type": "execute_result"
    }
   ],
   "source": [
    "# Calmar Ratio = Rp/Max Drawdown\n",
    "\n",
    "\n",
    "cumulative_simple_returns = (1 + portfolio_simple_returns).cumprod() \n",
    "max_drawdown = ((cumulative_simple_returns.cummax() - cumulative_simple_returns)/cumulative_simple_returns.cummax()).max()\n",
    "\n",
    "\n",
    "# Calmar Ratio \n",
    "\n",
    "calmar_ratio = annualized_simple_return/max_drawdown\n",
    "calmar_ratio"
   ]
  },
  {
   "cell_type": "code",
   "execution_count": 69,
   "id": "3d53ee10",
   "metadata": {},
   "outputs": [
    {
     "data": {
      "text/plain": [
       "np.float64(0.4235814129844652)"
      ]
     },
     "execution_count": 69,
     "metadata": {},
     "output_type": "execute_result"
    }
   ],
   "source": [
    "# Treynor Ratio \n",
    "\n",
    "treynor_ratio = (annualized_simple_return - risk_free_rate)/beta\n",
    "treynor_ratio"
   ]
  },
  {
   "cell_type": "code",
   "execution_count": 70,
   "id": "e1a4fd1c",
   "metadata": {},
   "outputs": [
    {
     "data": {
      "text/plain": [
       "np.float64(-12316.38217585077)"
      ]
     },
     "execution_count": 70,
     "metadata": {},
     "output_type": "execute_result"
    }
   ],
   "source": [
    "# Value at Risk (Historical Method) \n",
    "\n",
    "portfolio_value = 1000000\n",
    "var_90 = np.percentile(portfolio_simple_returns, 10) * portfolio_value\n",
    "var_90"
   ]
  },
  {
   "cell_type": "code",
   "execution_count": 71,
   "id": "2875c68a",
   "metadata": {},
   "outputs": [
    {
     "data": {
      "text/plain": [
       "np.float64(-27813.54847868654)"
      ]
     },
     "execution_count": 71,
     "metadata": {},
     "output_type": "execute_result"
    }
   ],
   "source": [
    "# Conditional VaR / Expected Shortfall \n",
    "\n",
    "\n",
    "c_var = portfolio_simple_returns[portfolio_simple_returns <= np.percentile(portfolio_simple_returns, 5)].mean()\n",
    "c_var = c_var * portfolio_value\n",
    "c_var"
   ]
  }
 ],
 "metadata": {
  "kernelspec": {
   "display_name": "equityanalysis",
   "language": "python",
   "name": "python3"
  },
  "language_info": {
   "codemirror_mode": {
    "name": "ipython",
    "version": 3
   },
   "file_extension": ".py",
   "mimetype": "text/x-python",
   "name": "python",
   "nbconvert_exporter": "python",
   "pygments_lexer": "ipython3",
   "version": "3.13.4"
  }
 },
 "nbformat": 4,
 "nbformat_minor": 5
}
